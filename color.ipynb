{
 "cells": [
  {
   "cell_type": "code",
   "execution_count": 3,
   "id": "684b4a24",
   "metadata": {
    "ExecuteTime": {
     "end_time": "2022-03-10T22:54:31.395065Z",
     "start_time": "2022-03-10T22:54:31.385687Z"
    }
   },
   "outputs": [
    {
     "name": "stdout",
     "output_type": "stream",
     "text": [
      "<matplotlib.colors.LinearSegmentedColormap object at 0x7fbec14ceb50>\n"
     ]
    }
   ],
   "source": [
    "import numpy as np\n",
    "import matplotlib.pyplot as plt\n",
    "from matplotlib import cm\n",
    "from matplotlib.colors import ListedColormap, LinearSegmentedColormap\n",
    "\n",
    "cmap = cm.get_cmap('gist_rainbow')\n",
    "#cmap = cm.get_cmap('viridis')\n",
    "print(cmap)"
   ]
  },
  {
   "cell_type": "code",
   "execution_count": 10,
   "id": "5e795c31",
   "metadata": {},
   "outputs": [
    {
     "data": {
      "text/plain": [
       "([<matplotlib.axis.YTick at 0x7fbe90026090>,\n",
       "  <matplotlib.axis.YTick at 0x7fbee141ae50>,\n",
       "  <matplotlib.axis.YTick at 0x7fbec1b59150>,\n",
       "  <matplotlib.axis.YTick at 0x7fbee15fb150>,\n",
       "  <matplotlib.axis.YTick at 0x7fbee15fb490>,\n",
       "  <matplotlib.axis.YTick at 0x7fbee15fbb90>,\n",
       "  <matplotlib.axis.YTick at 0x7fbee1603290>,\n",
       "  <matplotlib.axis.YTick at 0x7fbee1603410>,\n",
       "  <matplotlib.axis.YTick at 0x7fbee160f0d0>,\n",
       "  <matplotlib.axis.YTick at 0x7fbee160f7d0>,\n",
       "  <matplotlib.axis.YTick at 0x7fbee1617110>,\n",
       "  <matplotlib.axis.YTick at 0x7fbee160fb90>,\n",
       "  <matplotlib.axis.YTick at 0x7fbee1603650>,\n",
       "  <matplotlib.axis.YTick at 0x7fbee1617510>,\n",
       "  <matplotlib.axis.YTick at 0x7fbee1617150>],\n",
       " [Text(0, 0, ''),\n",
       "  Text(0, 0, ''),\n",
       "  Text(0, 0, ''),\n",
       "  Text(0, 0, ''),\n",
       "  Text(0, 0, ''),\n",
       "  Text(0, 0, ''),\n",
       "  Text(0, 0, ''),\n",
       "  Text(0, 0, ''),\n",
       "  Text(0, 0, ''),\n",
       "  Text(0, 0, ''),\n",
       "  Text(0, 0, ''),\n",
       "  Text(0, 0, ''),\n",
       "  Text(0, 0, ''),\n",
       "  Text(0, 0, ''),\n",
       "  Text(0, 0, '')])"
      ]
     },
     "execution_count": 10,
     "metadata": {},
     "output_type": "execute_result"
    },
    {
     "data": {
      "image/png": "[encoded data removed]",
      "text/plain": [
       "<Figure size 432x288 with 1 Axes>"
      ]
     },
     "metadata": {
      "needs_background": "light"
     },
     "output_type": "display_data"
    }
   ],
   "source": [
    "colors_list = [\"#FFFF00\", \"#1CE6FF\", \"#FF34FF\", \"#FF4A46\", \"#008941\", \"#006FA6\", \"#A30059\",\"#FF5733\",\"#FFD133\",\n",
    "\t\"#FFDBE5\", \"#7A4900\", \"#63FFAC\", \"#B79762\", \"#004D43\", \"#8FB0FF\", \"#997D87\",\n",
    "\t\"#5A0007\", \"#809693\", \"#FEFFE6\", \"#1B4400\", \"#4FC601\", \"#3B5DFF\", \"#4A3B53\", \"#FF2F80\",\n",
    "\t\"#61615A\", \"#BA0900\", \"#6B7900\", \"#00C2A0\", \"#FFAA92\", \"#FF90C9\", \"#B903AA\", \"#D16100\",\n",
    "\t\"#DDEFFF\", \"#000035\", \"#7B4F4B\", \"#A1C299\", \"#300018\", \"#0AA6D8\", \"#013349\", \"#00846F\",\n",
    "\t\"#372101\", \"#FFB500\", \"#C2FFED\", \"#A079BF\", \"#CC0744\", \"#C0B9B2\", \"#C2FF99\", \"#001E09\",\n",
    "\t\"#00489C\", \"#6F0062\", \"#0CBD66\", \"#EEC3FF\", \"#456D75\", \"#B77B68\", \"#7A87A1\", \"#788D66\",\n",
    "\t\"#885578\", \"#FAD09F\", \"#FF8A9A\", \"#D157A0\", \"#BEC459\", \"#456648\", \"#0086ED\", \"#886F4C\",\n",
    "\t\"#34362D\", \"#B4A8BD\", \"#00A6AA\", \"#452C2C\", \"#636375\", \"#A3C8C9\", \"#FF913F\", \"#938A81\",\n",
    "\t\"#575329\", \"#00FECF\", \"#B05B6F\", \"#8CD0FF\", \"#3B9700\", \"#04F757\", \"#C8A1A1\", \"#1E6E00\",\n",
    "\t\"#7900D7\", \"#A77500\", \"#6367A9\", \"#A05837\", \"#6B002C\", \"#772600\", \"#D790FF\", \"#9B9700\",\n",
    "\t\"#549E79\", \"#FFF69F\", \"#201625\", \"#72418F\", \"#BC23FF\", \"#99ADC0\", \"#3A2465\", \"#922329\",\n",
    "\t\"#5B4534\", \"#FDE8DC\", \"#404E55\", \"#0089A3\", \"#CB7E98\", \"#A4E804\", \"#324E72\", \"#6A3A4C\"]\n",
    "howmany = 15\n",
    "for i in range(howmany):\n",
    "    plt.plot([0,1], [i+1, i+1], c = colors_list[i])\n",
    "plt.yticks(np.arange(howmany)+1)"
   ]
  },
  {
   "cell_type": "code",
   "execution_count": null,
   "id": "35090a72",
   "metadata": {},
   "outputs": [],
   "source": []
  },
  {
   "cell_type": "code",
   "execution_count": 2,
   "id": "e18018df",
   "metadata": {},
   "outputs": [
    {
     "ename": "TypeError",
     "evalue": "file must have 'read' and 'readline' attributes",
     "output_type": "error",
     "traceback": [
      "\u001b[0;31m---------------------------------------------------------------------------\u001b[0m",
      "\u001b[0;31mTypeError\u001b[0m                                 Traceback (most recent call last)",
      "\u001b[0;32m/var/folders/bq/d87yzfm176j8j6c_qfnfd_b00000gn/T/ipykernel_88382/2369037912.py\u001b[0m in \u001b[0;36m<module>\u001b[0;34m\u001b[0m\n\u001b[1;32m      1\u001b[0m \u001b[0;32mimport\u001b[0m \u001b[0mpickle\u001b[0m\u001b[0;34m\u001b[0m\u001b[0;34m\u001b[0m\u001b[0m\n\u001b[1;32m      2\u001b[0m \u001b[0mfile\u001b[0m\u001b[0;34m=\u001b[0m\u001b[0;34m''\u001b[0m\u001b[0;34m\u001b[0m\u001b[0;34m\u001b[0m\u001b[0m\n\u001b[0;32m----> 3\u001b[0;31m \u001b[0mpickle\u001b[0m\u001b[0;34m.\u001b[0m\u001b[0mload\u001b[0m\u001b[0;34m(\u001b[0m\u001b[0mfile\u001b[0m\u001b[0;34m,\u001b[0m \u001b[0mencoding\u001b[0m\u001b[0;34m=\u001b[0m\u001b[0;34m'latin1'\u001b[0m\u001b[0;34m)\u001b[0m\u001b[0;34m\u001b[0m\u001b[0;34m\u001b[0m\u001b[0m\n\u001b[0m",
      "\u001b[0;31mTypeError\u001b[0m: file must have 'read' and 'readline' attributes"
     ]
    }
   ],
   "source": [
    "import pickle\n",
    "file=''\n",
    "pickle.load(file, encoding='latin1')"
   ]
  },
  {
   "cell_type": "code",
   "execution_count": null,
   "id": "97ff1a8a",
   "metadata": {
    "ExecuteTime": {
     "end_time": "2022-03-11T05:53:31.258814Z",
     "start_time": "2022-03-11T05:53:31.239519Z"
    }
   },
   "outputs": [
    {
     "data": {
      "image/png": "[encoded data removed]",
      "text/html": [
       "<div style=\"vertical-align: middle;\"><strong>gist_rainbow</strong> </div><div class=\"cmap\"><img alt=\"gist_rainbow colormap\" title=\"gist_rainbow\" style=\"border: 1px solid #555;\" src=\"data:image/png;base64,iVBORw0KGgoAAAANSUhEUgAAAgAAAABACAYAAABsv8+/AAAAG3RFWHRUaXRsZQBnaXN0X3JhaW5ib3cgY29sb3JtYXAMpSpAAAAAIXRFWHREZXNjcmlwdGlvbgBnaXN0X3JhaW5ib3cgY29sb3JtYXCOPMDFAAAAMHRFWHRBdXRob3IATWF0cGxvdGxpYiB2My41LjAsIGh0dHBzOi8vbWF0cGxvdGxpYi5vcmdSPF7BAAAAMnRFWHRTb2Z0d2FyZQBNYXRwbG90bGliIHYzLjUuMCwgaHR0cHM6Ly9tYXRwbG90bGliLm9yZ3yaweYAAAGLSURBVHic7dbBTsJAFEDRB0S/xf//PMXUBd1gMBIpYHLP2QxMZtImU8rdLfO2zMzMfMz5+D5Xze8+T+PrOv0yl7//NH/vdf/lPjZet6zj91O68tQ221dd9/uB3Xrg9l+cPx5O460P+KN/KFvte9L1D+u/xF9fu49+fW+179nX389x/XSfB2U/AECOAACAIAEAAEECAACCBAAABAkAAAgSAAAQJAAAIEgAAECQAACAIAEAAEECAACCBAAABAkAAAgSAAAQJAAAIEgAAECQAACAIAEAAEECAACCBAAABAkAAAgSAAAQJAAAIEgAAECQAACAIAEAAEECAACCBAAABAkAAAgSAAAQJAAAIEgAAECQAACAIAEAAEECAACCBAAABAkAAAgSAAAQJAAAIEgAAECQAACAIAEAAEECAACCBAAABAkAAAgSAAAQJAAAIEgAAECQAACAIAEAAEECAACCBAAABAkAAAgSAAAQJAAAIEgAAECQAACAIAEAAEECAACCBAAABAkAAAgSAAAQ9AUd3Hc9mGdWmgAAAABJRU5ErkJggg==\"></div><div style=\"vertical-align: middle; max-width: 514px; display: flex; justify-content: space-between;\"><div style=\"float: left;\"><div title=\"#ff0029ff\" style=\"display: inline-block; width: 1em; height: 1em; margin: 0; vertical-align: middle; border: 1px solid #555; background-color: #ff0029ff;\"></div> under</div><div style=\"margin: 0 auto; display: inline-block;\">bad <div title=\"#00000000\" style=\"display: inline-block; width: 1em; height: 1em; margin: 0; vertical-align: middle; border: 1px solid #555; background-color: #00000000;\"></div></div><div style=\"float: right;\">over <div title=\"#ff00bfff\" style=\"display: inline-block; width: 1em; height: 1em; margin: 0; vertical-align: middle; border: 1px solid #555; background-color: #ff00bfff;\"></div></div>"
      ],
      "text/plain": [
       "<matplotlib.colors.LinearSegmentedColormap at 0x7fd4b9c8c750>"
      ]
     },
     "execution_count": 104,
     "metadata": {},
     "output_type": "execute_result"
    }
   ],
   "source": [
    "cmap"
   ]
  },
  {
   "cell_type": "code",
   "execution_count": null,
   "id": "361b9890",
   "metadata": {
    "ExecuteTime": {
     "end_time": "2022-03-11T05:42:41.967356Z",
     "start_time": "2022-03-11T05:42:41.588229Z"
    }
   },
   "outputs": [
    {
     "data": {
      "image/png": "[encoded data removed]",
      "text/plain": [
       "<Figure size 432x216 with 4 Axes>"
      ]
     },
     "metadata": {
      "needs_background": "light"
     },
     "output_type": "display_data"
    }
   ],
   "source": [
    "viridis = cm.get_cmap('gist_rainbow', 256)\n",
    "newcolors = viridis(np.linspace(0, 1, 256))\n",
    "pink = np.array([248/256, 24/256, 148/256, 1])\n",
    "newcolors[:25, :] = pink\n",
    "newcmp = ListedColormap(newcolors)\n",
    "\n",
    "\n",
    "def plot_examples(cms):\n",
    "    \"\"\"\n",
    "    helper function to plot two colormaps\n",
    "    \"\"\"\n",
    "    np.random.seed(19680801)\n",
    "    data = np.random.randn(30, 30)\n",
    "\n",
    "    fig, axs = plt.subplots(1, 2, figsize=(6, 3), constrained_layout=True)\n",
    "    for [ax, cmap] in zip(axs, cms):\n",
    "        psm = ax.pcolormesh(data, cmap=cmap, rasterized=True, vmin=-4, vmax=4)\n",
    "        fig.colorbar(psm, ax=ax)\n",
    "    plt.show()\n",
    "\n",
    "plot_examples([viridis, newcmp])"
   ]
  },
  {
   "cell_type": "code",
   "execution_count": null,
   "id": "b46c8fe3",
   "metadata": {
    "ExecuteTime": {
     "end_time": "2022-03-11T05:48:58.785480Z",
     "start_time": "2022-03-11T05:48:58.537847Z"
    },
    "scrolled": true
   },
   "outputs": [
    {
     "data": {
      "image/png": "[encoded data removed]",
      "text/plain": [
       "<Figure size 432x216 with 4 Axes>"
      ]
     },
     "metadata": {
      "needs_background": "light"
     },
     "output_type": "display_data"
    }
   ],
   "source": [
    "viridis_big = cm.get_cmap('gist_rainbow')\n",
    "newcmp = ListedColormap(viridis_big(np.linspace(0, 0.75, 192)))\n",
    "plot_examples([viridis, newcmp])"
   ]
  },
  {
   "cell_type": "code",
   "execution_count": null,
   "id": "68806265",
   "metadata": {
    "ExecuteTime": {
     "end_time": "2022-03-11T05:54:25.644654Z",
     "start_time": "2022-03-11T05:54:25.615175Z"
    },
    "scrolled": true
   },
   "outputs": [
    {
     "data": {
      "text/plain": [
       "array([[1.        , 0.        , 0.16      , 1.        ],\n",
       "       [1.        , 0.        , 0.13908497, 1.        ],\n",
       "       [1.        , 0.        , 0.11816993, 1.        ],\n",
       "       [1.        , 0.        , 0.0972549 , 1.        ],\n",
       "       [1.        , 0.        , 0.07633987, 1.        ],\n",
       "       [1.        , 0.        , 0.05542484, 1.        ],\n",
       "       [1.        , 0.        , 0.0345098 , 1.        ],\n",
       "       [1.        , 0.        , 0.01359477, 1.        ],\n",
       "       [1.        , 0.00741918, 0.        , 1.        ],\n",
       "       [1.        , 0.02861685, 0.        , 1.        ],\n",
       "       [1.        , 0.04981452, 0.        , 1.        ],\n",
       "       [1.        , 0.07101219, 0.        , 1.        ],\n",
       "       [1.        , 0.09220986, 0.        , 1.        ],\n",
       "       [1.        , 0.11340753, 0.        , 1.        ],\n",
       "       [1.        , 0.13460519, 0.        , 1.        ],\n",
       "       [1.        , 0.15580286, 0.        , 1.        ],\n",
       "       [1.        , 0.17700053, 0.        , 1.        ],\n",
       "       [1.        , 0.1981982 , 0.        , 1.        ],\n",
       "       [1.        , 0.21939587, 0.        , 1.        ],\n",
       "       [1.        , 0.24059353, 0.        , 1.        ],\n",
       "       [1.        , 0.2617912 , 0.        , 1.        ],\n",
       "       [1.        , 0.28298887, 0.        , 1.        ],\n",
       "       [1.        , 0.30418654, 0.        , 1.        ],\n",
       "       [1.        , 0.32538421, 0.        , 1.        ],\n",
       "       [1.        , 0.34658188, 0.        , 1.        ],\n",
       "       [1.        , 0.36777954, 0.        , 1.        ],\n",
       "       [1.        , 0.38897721, 0.        , 1.        ],\n",
       "       [1.        , 0.41017488, 0.        , 1.        ],\n",
       "       [1.        , 0.43137255, 0.        , 1.        ],\n",
       "       [1.        , 0.45257022, 0.        , 1.        ],\n",
       "       [1.        , 0.47376789, 0.        , 1.        ],\n",
       "       [1.        , 0.49496555, 0.        , 1.        ],\n",
       "       [1.        , 0.51616322, 0.        , 1.        ],\n",
       "       [1.        , 0.53736089, 0.        , 1.        ],\n",
       "       [1.        , 0.55855856, 0.        , 1.        ],\n",
       "       [1.        , 0.57975623, 0.        , 1.        ],\n",
       "       [1.        , 0.6009539 , 0.        , 1.        ],\n",
       "       [1.        , 0.62215156, 0.        , 1.        ],\n",
       "       [1.        , 0.64334923, 0.        , 1.        ],\n",
       "       [1.        , 0.6645469 , 0.        , 1.        ],\n",
       "       [1.        , 0.68574457, 0.        , 1.        ],\n",
       "       [1.        , 0.70694224, 0.        , 1.        ],\n",
       "       [1.        , 0.7281399 , 0.        , 1.        ],\n",
       "       [1.        , 0.74933757, 0.        , 1.        ],\n",
       "       [1.        , 0.77053524, 0.        , 1.        ],\n",
       "       [1.        , 0.79173291, 0.        , 1.        ],\n",
       "       [1.        , 0.81293058, 0.        , 1.        ],\n",
       "       [1.        , 0.83412825, 0.        , 1.        ],\n",
       "       [1.        , 0.85532591, 0.        , 1.        ],\n",
       "       [1.        , 0.87652358, 0.        , 1.        ],\n",
       "       [1.        , 0.89772125, 0.        , 1.        ],\n",
       "       [1.        , 0.91891892, 0.        , 1.        ],\n",
       "       [1.        , 0.94011659, 0.        , 1.        ],\n",
       "       [1.        , 0.96131426, 0.        , 1.        ],\n",
       "       [1.        , 0.98251192, 0.        , 1.        ],\n",
       "       [0.99629041, 1.        , 0.        , 1.        ],\n",
       "       [0.97509274, 1.        , 0.        , 1.        ],\n",
       "       [0.95389507, 1.        , 0.        , 1.        ],\n",
       "       [0.9326974 , 1.        , 0.        , 1.        ],\n",
       "       [0.91149974, 1.        , 0.        , 1.        ],\n",
       "       [0.89030207, 1.        , 0.        , 1.        ],\n",
       "       [0.8691044 , 1.        , 0.        , 1.        ],\n",
       "       [0.84790673, 1.        , 0.        , 1.        ],\n",
       "       [0.82670906, 1.        , 0.        , 1.        ],\n",
       "       [0.80551139, 1.        , 0.        , 1.        ],\n",
       "       [0.78431373, 1.        , 0.        , 1.        ],\n",
       "       [0.76311606, 1.        , 0.        , 1.        ],\n",
       "       [0.74191839, 1.        , 0.        , 1.        ],\n",
       "       [0.72072072, 1.        , 0.        , 1.        ],\n",
       "       [0.69952305, 1.        , 0.        , 1.        ],\n",
       "       [0.67832538, 1.        , 0.        , 1.        ],\n",
       "       [0.65712772, 1.        , 0.        , 1.        ],\n",
       "       [0.63593005, 1.        , 0.        , 1.        ],\n",
       "       [0.61473238, 1.        , 0.        , 1.        ],\n",
       "       [0.59353471, 1.        , 0.        , 1.        ],\n",
       "       [0.57233704, 1.        , 0.        , 1.        ],\n",
       "       [0.55113937, 1.        , 0.        , 1.        ],\n",
       "       [0.52994171, 1.        , 0.        , 1.        ],\n",
       "       [0.50874404, 1.        , 0.        , 1.        ],\n",
       "       [0.48754637, 1.        , 0.        , 1.        ],\n",
       "       [0.4663487 , 1.        , 0.        , 1.        ],\n",
       "       [0.44515103, 1.        , 0.        , 1.        ],\n",
       "       [0.42395337, 1.        , 0.        , 1.        ],\n",
       "       [0.4027557 , 1.        , 0.        , 1.        ],\n",
       "       [0.38155803, 1.        , 0.        , 1.        ],\n",
       "       [0.36036036, 1.        , 0.        , 1.        ],\n",
       "       [0.33916269, 1.        , 0.        , 1.        ],\n",
       "       [0.31796502, 1.        , 0.        , 1.        ],\n",
       "       [0.29676736, 1.        , 0.        , 1.        ],\n",
       "       [0.27556969, 1.        , 0.        , 1.        ],\n",
       "       [0.25437202, 1.        , 0.        , 1.        ],\n",
       "       [0.23317435, 1.        , 0.        , 1.        ],\n",
       "       [0.21197668, 1.        , 0.        , 1.        ],\n",
       "       [0.19077901, 1.        , 0.        , 1.        ],\n",
       "       [0.16958135, 1.        , 0.        , 1.        ],\n",
       "       [0.14838368, 1.        , 0.        , 1.        ],\n",
       "       [0.12718601, 1.        , 0.        , 1.        ],\n",
       "       [0.10598834, 1.        , 0.        , 1.        ],\n",
       "       [0.08479067, 1.        , 0.        , 1.        ],\n",
       "       [0.063593  , 1.        , 0.        , 1.        ],\n",
       "       [0.04239534, 1.        , 0.        , 1.        ],\n",
       "       [0.02119767, 1.        , 0.        , 1.        ],\n",
       "       [0.        , 1.        , 0.        , 1.        ],\n",
       "       [0.        , 1.        , 0.0210837 , 1.        ],\n",
       "       [0.        , 1.        , 0.0421674 , 1.        ],\n",
       "       [0.        , 1.        , 0.06325111, 1.        ],\n",
       "       [0.        , 1.        , 0.08433481, 1.        ],\n",
       "       [0.        , 1.        , 0.10541851, 1.        ],\n",
       "       [0.        , 1.        , 0.12650221, 1.        ],\n",
       "       [0.        , 1.        , 0.14758592, 1.        ],\n",
       "       [0.        , 1.        , 0.16866962, 1.        ],\n",
       "       [0.        , 1.        , 0.18975332, 1.        ],\n",
       "       [0.        , 1.        , 0.21083702, 1.        ],\n",
       "       [0.        , 1.        , 0.23192073, 1.        ],\n",
       "       [0.        , 1.        , 0.25300443, 1.        ],\n",
       "       [0.        , 1.        , 0.27408813, 1.        ],\n",
       "       [0.        , 1.        , 0.29517183, 1.        ],\n",
       "       [0.        , 1.        , 0.31625553, 1.        ],\n",
       "       [0.        , 1.        , 0.33733924, 1.        ],\n",
       "       [0.        , 1.        , 0.35842294, 1.        ],\n",
       "       [0.        , 1.        , 0.37950664, 1.        ],\n",
       "       [0.        , 1.        , 0.40059034, 1.        ],\n",
       "       [0.        , 1.        , 0.42167405, 1.        ],\n",
       "       [0.        , 1.        , 0.44275775, 1.        ],\n",
       "       [0.        , 1.        , 0.46384145, 1.        ],\n",
       "       [0.        , 1.        , 0.48492515, 1.        ],\n",
       "       [0.        , 1.        , 0.50600886, 1.        ],\n",
       "       [0.        , 1.        , 0.52709256, 1.        ],\n",
       "       [0.        , 1.        , 0.54817626, 1.        ],\n",
       "       [0.        , 1.        , 0.56925996, 1.        ],\n",
       "       [0.        , 1.        , 0.59034366, 1.        ],\n",
       "       [0.        , 1.        , 0.61142737, 1.        ],\n",
       "       [0.        , 1.        , 0.63251107, 1.        ],\n",
       "       [0.        , 1.        , 0.65359477, 1.        ],\n",
       "       [0.        , 1.        , 0.67467847, 1.        ],\n",
       "       [0.        , 1.        , 0.69576218, 1.        ],\n",
       "       [0.        , 1.        , 0.71684588, 1.        ],\n",
       "       [0.        , 1.        , 0.73792958, 1.        ],\n",
       "       [0.        , 1.        , 0.75901328, 1.        ],\n",
       "       [0.        , 1.        , 0.78009699, 1.        ],\n",
       "       [0.        , 1.        , 0.80118069, 1.        ],\n",
       "       [0.        , 1.        , 0.82226439, 1.        ],\n",
       "       [0.        , 1.        , 0.84334809, 1.        ],\n",
       "       [0.        , 1.        , 0.86443179, 1.        ],\n",
       "       [0.        , 1.        , 0.8855155 , 1.        ],\n",
       "       [0.        , 1.        , 0.9065992 , 1.        ],\n",
       "       [0.        , 1.        , 0.9276829 , 1.        ],\n",
       "       [0.        , 1.        , 0.9487666 , 1.        ],\n",
       "       [0.        , 1.        , 0.96985031, 1.        ],\n",
       "       [0.        , 1.        , 0.99093401, 1.        ],\n",
       "       [0.        , 0.98785166, 1.        , 1.        ],\n",
       "       [0.        , 0.96653879, 1.        , 1.        ],\n",
       "       [0.        , 0.94522592, 1.        , 1.        ],\n",
       "       [0.        , 0.92391304, 1.        , 1.        ],\n",
       "       [0.        , 0.90260017, 1.        , 1.        ],\n",
       "       [0.        , 0.8812873 , 1.        , 1.        ],\n",
       "       [0.        , 0.85997442, 1.        , 1.        ],\n",
       "       [0.        , 0.83866155, 1.        , 1.        ],\n",
       "       [0.        , 0.81734868, 1.        , 1.        ],\n",
       "       [0.        , 0.79603581, 1.        , 1.        ],\n",
       "       [0.        , 0.77472293, 1.        , 1.        ],\n",
       "       [0.        , 0.75341006, 1.        , 1.        ],\n",
       "       [0.        , 0.73209719, 1.        , 1.        ],\n",
       "       [0.        , 0.71078431, 1.        , 1.        ],\n",
       "       [0.        , 0.68947144, 1.        , 1.        ],\n",
       "       [0.        , 0.66815857, 1.        , 1.        ],\n",
       "       [0.        , 0.64684569, 1.        , 1.        ],\n",
       "       [0.        , 0.62553282, 1.        , 1.        ],\n",
       "       [0.        , 0.60421995, 1.        , 1.        ],\n",
       "       [0.        , 0.58290708, 1.        , 1.        ],\n",
       "       [0.        , 0.5615942 , 1.        , 1.        ],\n",
       "       [0.        , 0.54028133, 1.        , 1.        ],\n",
       "       [0.        , 0.51896846, 1.        , 1.        ],\n",
       "       [0.        , 0.49765558, 1.        , 1.        ],\n",
       "       [0.        , 0.47634271, 1.        , 1.        ],\n",
       "       [0.        , 0.45502984, 1.        , 1.        ],\n",
       "       [0.        , 0.43371697, 1.        , 1.        ],\n",
       "       [0.        , 0.41240409, 1.        , 1.        ],\n",
       "       [0.        , 0.39109122, 1.        , 1.        ],\n",
       "       [0.        , 0.36977835, 1.        , 1.        ],\n",
       "       [0.        , 0.34846547, 1.        , 1.        ],\n",
       "       [0.        , 0.3271526 , 1.        , 1.        ],\n",
       "       [0.        , 0.30583973, 1.        , 1.        ],\n",
       "       [0.        , 0.28452685, 1.        , 1.        ],\n",
       "       [0.        , 0.26321398, 1.        , 1.        ],\n",
       "       [0.        , 0.24190111, 1.        , 1.        ],\n",
       "       [0.        , 0.22058824, 1.        , 1.        ],\n",
       "       [0.        , 0.19927536, 1.        , 1.        ],\n",
       "       [0.        , 0.17796249, 1.        , 1.        ],\n",
       "       [0.        , 0.15664962, 1.        , 1.        ],\n",
       "       [0.        , 0.13533674, 1.        , 1.        ],\n",
       "       [0.        , 0.092711  , 1.        , 1.        ]])"
      ]
     },
     "execution_count": 107,
     "metadata": {},
     "output_type": "execute_result"
    }
   ],
   "source": [
    "newcmp.colors"
   ]
  },
  {
   "cell_type": "code",
   "execution_count": null,
   "id": "c6c2763e",
   "metadata": {
    "ExecuteTime": {
     "end_time": "2022-03-11T05:52:54.201050Z",
     "start_time": "2022-03-11T05:52:54.194741Z"
    }
   },
   "outputs": [],
   "source": [
    " b=LinearSegmentedColormap.from_list('test',newcmp.colors)"
   ]
  },
  {
   "cell_type": "code",
   "execution_count": null,
   "id": "b6ee48b8",
   "metadata": {
    "ExecuteTime": {
     "end_time": "2022-03-11T06:10:06.275924Z",
     "start_time": "2022-03-11T06:10:06.251191Z"
    }
   },
   "outputs": [],
   "source": [
    "p1=b(np.linspace(0,0.375,96))\n",
    "p2=b(np.linspace(0.375,0.625,16))\n",
    "p3=b(np.linspace(0.625,1.,96))"
   ]
  },
  {
   "cell_type": "code",
   "execution_count": null,
   "id": "ccba946a",
   "metadata": {
    "ExecuteTime": {
     "end_time": "2022-03-11T06:13:51.049940Z",
     "start_time": "2022-03-11T06:13:51.035429Z"
    }
   },
   "outputs": [],
   "source": [
    "newcmp = ListedColormap(np.vstack((p1,p2,p3)))"
   ]
  },
  {
   "cell_type": "code",
   "execution_count": null,
   "id": "c6d967c8",
   "metadata": {
    "ExecuteTime": {
     "end_time": "2022-03-11T06:58:07.925669Z",
     "start_time": "2022-03-11T06:58:07.913154Z"
    }
   },
   "outputs": [],
   "source": [
    "coolwarm = cm.get_cmap('coolwarm')\n",
    "newcolors = coolwarm(np.linspace(0, 1, 256))\n",
    "pink = np.array([0, 1., 0, 1])\n",
    "newcolors[116:140, :] = pink\n",
    "newcmp = ListedColormap(newcolors)"
   ]
  },
  {
   "cell_type": "code",
   "execution_count": null,
   "id": "13517e5a",
   "metadata": {
    "ExecuteTime": {
     "end_time": "2022-03-11T06:58:08.472069Z",
     "start_time": "2022-03-11T06:58:08.445905Z"
    }
   },
   "outputs": [
    {
     "data": {
      "image/png": "[encoded data removed]",
      "text/html": [
       "<div style=\"vertical-align: middle;\"><strong>from_list</strong> </div><div class=\"cmap\"><img alt=\"from_list colormap\" title=\"from_list\" style=\"border: 1px solid #555;\" src=\"data:image/png;base64,iVBORw0KGgoAAAANSUhEUgAAAgAAAABACAYAAABsv8+/AAAAGHRFWHRUaXRsZQBmcm9tX2xpc3QgY29sb3JtYXBDL89FAAAAHnRFWHREZXNjcmlwdGlvbgBmcm9tX2xpc3QgY29sb3JtYXABtCnOAAAAMHRFWHRBdXRob3IATWF0cGxvdGxpYiB2My41LjAsIGh0dHBzOi8vbWF0cGxvdGxpYi5vcmdSPF7BAAAAMnRFWHRTb2Z0d2FyZQBNYXRwbG90bGliIHYzLjUuMCwgaHR0cHM6Ly9tYXRwbG90bGliLm9yZ3yaweYAAAIsSURBVHic7daxldQwFIbRZxdBCeSk1EDRxBRADfSwjEWAxxzLlj0bbMD5703myJKevcmeb/r67Xurqpqmqaqqpnmuqqp53q/7/anbn0f7L8+d1v3z59v+zXvmw3tH9/vvr3fNOz6v8/nPOcP5NXjf/vx2f/S+db+fd/t8e8/5vPG5uj5383x8rt3cb689r9H5bn4N9qv/jnY+dzv32v7hfaP99ffL50/1P/v180dVVU1t/bva8ve39utqg3Utl+eec2uwHs7d1tfntrlLP/f8XC3995w/v7vXltfO3d5b161bP/e384c51/cP66Wb180fzevf35/fftvducG9D3q+PK7P/9vvzq3Pl37+Y9nfewzmbffXeW/r+nd73/pt//8KAAgiAAAgkAAAgEACAAACCQAACCQAACCQAACAQAIAAAIJAAAIJAAAIJAAAIBAAgAAAgkAAAgkAAAgkAAAgEACAAACCQAACCQAACCQAACAQAIAAAIJAAAIJAAAIJAAAIBAAgAAAgkAAAgkAAAgkAAAgEACAAACCQAACCQAACCQAACAQAIAAAIJAAAIJAAAIJAAAIBAAgAAAgkAAAgkAAAgkAAAgEACAAACCQAACCQAACCQAACAQAIAAAIJAAAIJAAAIJAAAIBAAgAAAgkAAAgkAAAgkAAAgEACAAACCQAACCQAACCQAACAQAIAAAIJAAAIJAAAIJAAAIBAAgAAAgkAAAgkAAAgkAAAgEB/AEW7N2osBFn4AAAAAElFTkSuQmCC\"></div><div style=\"vertical-align: middle; max-width: 514px; display: flex; justify-content: space-between;\"><div style=\"float: left;\"><div title=\"#3b4cc0ff\" style=\"display: inline-block; width: 1em; height: 1em; margin: 0; vertical-align: middle; border: 1px solid #555; background-color: #3b4cc0ff;\"></div> under</div><div style=\"margin: 0 auto; display: inline-block;\">bad <div title=\"#00000000\" style=\"display: inline-block; width: 1em; height: 1em; margin: 0; vertical-align: middle; border: 1px solid #555; background-color: #00000000;\"></div></div><div style=\"float: right;\">over <div title=\"#b40426ff\" style=\"display: inline-block; width: 1em; height: 1em; margin: 0; vertical-align: middle; border: 1px solid #555; background-color: #b40426ff;\"></div></div>"
      ],
      "text/plain": [
       "<matplotlib.colors.ListedColormap at 0x7fd4ba838b90>"
      ]
     },
     "execution_count": 134,
     "metadata": {},
     "output_type": "execute_result"
    }
   ],
   "source": [
    "newcmp"
   ]
  },
  {
   "cell_type": "code",
   "execution_count": null,
   "id": "92451e52",
   "metadata": {},
   "outputs": [],
   "source": []
  }
 ],
 "metadata": {
  "interpreter": {
   "hash": "98d03ff3a7cc89c085913c700857b139212c7c5d282c9d3fa92f69c089bbd684"
  },
  "kernelspec": {
   "display_name": "Python 3.7.12 ('gall2')",
   "language": "python",
   "name": "python3"
  },
  "language_info": {
   "codemirror_mode": {
    "name": "ipython",
    "version": 3
   },
   "file_extension": ".py",
   "mimetype": "text/x-python",
   "name": "python",
   "nbconvert_exporter": "python",
   "pygments_lexer": "ipython3",
   "version": "3.7.12"
  }
 },
 "nbformat": 4,
 "nbformat_minor": 5
}
